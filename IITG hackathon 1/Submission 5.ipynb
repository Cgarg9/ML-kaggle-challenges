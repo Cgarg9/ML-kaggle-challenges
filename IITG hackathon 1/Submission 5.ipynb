{
 "cells": [
  {
   "cell_type": "code",
   "execution_count": 1,
   "id": "bf999130",
   "metadata": {},
   "outputs": [],
   "source": [
    "import numpy as np\n",
    "import pandas as pd \n",
    "from sklearn.linear_model import LinearRegression\n",
    "from sklearn.model_selection import train_test_split\n",
    "from sklearn.linear_model import LogisticRegression\n",
    "from sklearn.impute import SimpleImputer\n",
    "import matplotlib.pyplot as plt\n",
    "import seaborn as sns"
   ]
  },
  {
   "cell_type": "code",
   "execution_count": 2,
   "id": "6a4c0ef9",
   "metadata": {},
   "outputs": [
    {
     "data": {
      "text/plain": [
       "(3132, 9)"
      ]
     },
     "execution_count": 2,
     "metadata": {},
     "output_type": "execute_result"
    }
   ],
   "source": [
    "# importing required datasets\n",
    "df = pd.read_csv(\"Train.csv\")\n",
    "df.shape"
   ]
  },
  {
   "cell_type": "code",
   "execution_count": 3,
   "id": "3f24a59c",
   "metadata": {},
   "outputs": [
    {
     "data": {
      "text/plain": [
       "(1045, 9)"
      ]
     },
     "execution_count": 3,
     "metadata": {},
     "output_type": "execute_result"
    }
   ],
   "source": [
    "x_test = pd.read_csv(\"Test.csv\")\n",
    "x_test.shape"
   ]
  },
  {
   "cell_type": "code",
   "execution_count": 4,
   "id": "f0a94579",
   "metadata": {},
   "outputs": [
    {
     "name": "stdout",
     "output_type": "stream",
     "text": [
      "0        9\n",
      "1       12\n",
      "2       10\n",
      "3       15\n",
      "4        6\n",
      "        ..\n",
      "3127     9\n",
      "3128    12\n",
      "3129    11\n",
      "3130     9\n",
      "3131     6\n",
      "Name: Target, Length: 3132, dtype: int64\n"
     ]
    }
   ],
   "source": [
    "#storing target column as a seperate variable\n",
    "y = df['Target']\n",
    "df.drop(['Target'],axis=1,inplace=True)\n",
    "print(y)"
   ]
  },
  {
   "cell_type": "code",
   "execution_count": 5,
   "id": "5eb2fed0",
   "metadata": {},
   "outputs": [
    {
     "name": "stderr",
     "output_type": "stream",
     "text": [
      "C:\\Users\\chira\\AppData\\Local\\Temp/ipykernel_21780/2225569098.py:3: DeprecationWarning: `np.bool` is a deprecated alias for the builtin `bool`. To silence this warning, use `bool` by itself. Doing this will not modify any behavior and is safe. If you specifically wanted the numpy scalar type, use `np.bool_` here.\n",
      "Deprecated in NumPy 1.20; for more details and guidance: https://numpy.org/devdocs/release/1.20.0-notes.html#deprecations\n",
      "  sns.heatmap(corr, mask=np.zeros_like(corr, dtype=np.bool),\n"
     ]
    },
    {
     "data": {
      "text/plain": [
       "<AxesSubplot:>"
      ]
     },
     "execution_count": 5,
     "metadata": {},
     "output_type": "execute_result"
    },
    {
     "data": {
      "image/png": "[encoded data removed]",
      "text/plain": [
       "<Figure size 720x576 with 2 Axes>"
      ]
     },
     "metadata": {
      "needs_background": "light"
     },
     "output_type": "display_data"
    }
   ],
   "source": [
    "# making correlation matrix to check for column interdependecny\n",
    "f, ax = plt.subplots(figsize=(10, 8))\n",
    "corr = df.corr()\n",
    "sns.heatmap(corr, mask=np.zeros_like(corr, dtype=np.bool),\n",
    "            cmap=sns.diverging_palette(220, 10, as_cmap=True),\n",
    "            square=True, ax=ax)"
   ]
  },
  {
   "cell_type": "code",
   "execution_count": 6,
   "id": "4445291c",
   "metadata": {},
   "outputs": [],
   "source": [
    "# using dummy encoding on column A\n",
    "final_features = pd.get_dummies(df,drop_first=True)"
   ]
  },
  {
   "cell_type": "code",
   "execution_count": null,
   "id": "33d0f9e0",
   "metadata": {},
   "outputs": [],
   "source": []
  },
  {
   "cell_type": "code",
   "execution_count": 7,
   "id": "bb1b26fa",
   "metadata": {},
   "outputs": [],
   "source": [
    "final_features.to_csv(\"new_df.csv\")"
   ]
  },
  {
   "cell_type": "code",
   "execution_count": 8,
   "id": "a490f8d4",
   "metadata": {},
   "outputs": [
    {
     "data": {
      "text/plain": [
       "0       0.455\n",
       "1       0.395\n",
       "2       0.530\n",
       "3       0.365\n",
       "4       0.400\n",
       "        ...  \n",
       "3127    0.400\n",
       "3128    0.550\n",
       "3129    0.395\n",
       "3130    0.465\n",
       "3131    0.475\n",
       "Name: C, Length: 3132, dtype: float64"
      ]
     },
     "execution_count": 8,
     "metadata": {},
     "output_type": "execute_result"
    }
   ],
   "source": [
    "final_features.iloc[:,1]"
   ]
  },
  {
   "cell_type": "code",
   "execution_count": 9,
   "id": "56f33c1e",
   "metadata": {},
   "outputs": [
    {
     "data": {
      "text/html": [
       "<div>\n",
       "<style scoped>\n",
       "    .dataframe tbody tr th:only-of-type {\n",
       "        vertical-align: middle;\n",
       "    }\n",
       "\n",
       "    .dataframe tbody tr th {\n",
       "        vertical-align: top;\n",
       "    }\n",
       "\n",
       "    .dataframe thead th {\n",
       "        text-align: right;\n",
       "    }\n",
       "</style>\n",
       "<table border=\"1\" class=\"dataframe\">\n",
       "  <thead>\n",
       "    <tr style=\"text-align: right;\">\n",
       "      <th></th>\n",
       "      <th>B</th>\n",
       "      <th>C</th>\n",
       "      <th>D</th>\n",
       "      <th>E</th>\n",
       "      <th>F</th>\n",
       "      <th>G</th>\n",
       "      <th>H</th>\n",
       "      <th>A_I</th>\n",
       "      <th>A_M</th>\n",
       "    </tr>\n",
       "  </thead>\n",
       "  <tbody>\n",
       "    <tr>\n",
       "      <th>count</th>\n",
       "      <td>3132.000000</td>\n",
       "      <td>3132.000000</td>\n",
       "      <td>3132.000000</td>\n",
       "      <td>3132.000000</td>\n",
       "      <td>3132.000000</td>\n",
       "      <td>3132.000000</td>\n",
       "      <td>3132.000000</td>\n",
       "      <td>3132.000000</td>\n",
       "      <td>3132.000000</td>\n",
       "    </tr>\n",
       "    <tr>\n",
       "      <th>mean</th>\n",
       "      <td>0.525750</td>\n",
       "      <td>0.409254</td>\n",
       "      <td>0.140070</td>\n",
       "      <td>0.834224</td>\n",
       "      <td>0.362219</td>\n",
       "      <td>0.181684</td>\n",
       "      <td>0.240351</td>\n",
       "      <td>0.316731</td>\n",
       "      <td>0.366858</td>\n",
       "    </tr>\n",
       "    <tr>\n",
       "      <th>std</th>\n",
       "      <td>0.119131</td>\n",
       "      <td>0.098557</td>\n",
       "      <td>0.042661</td>\n",
       "      <td>0.491449</td>\n",
       "      <td>0.223000</td>\n",
       "      <td>0.109317</td>\n",
       "      <td>0.139567</td>\n",
       "      <td>0.465276</td>\n",
       "      <td>0.482024</td>\n",
       "    </tr>\n",
       "    <tr>\n",
       "      <th>min</th>\n",
       "      <td>0.075000</td>\n",
       "      <td>0.055000</td>\n",
       "      <td>0.000000</td>\n",
       "      <td>0.002000</td>\n",
       "      <td>0.001000</td>\n",
       "      <td>0.000500</td>\n",
       "      <td>0.001500</td>\n",
       "      <td>0.000000</td>\n",
       "      <td>0.000000</td>\n",
       "    </tr>\n",
       "    <tr>\n",
       "      <th>25%</th>\n",
       "      <td>0.450000</td>\n",
       "      <td>0.350000</td>\n",
       "      <td>0.115000</td>\n",
       "      <td>0.444000</td>\n",
       "      <td>0.187000</td>\n",
       "      <td>0.093500</td>\n",
       "      <td>0.130000</td>\n",
       "      <td>0.000000</td>\n",
       "      <td>0.000000</td>\n",
       "    </tr>\n",
       "    <tr>\n",
       "      <th>50%</th>\n",
       "      <td>0.545000</td>\n",
       "      <td>0.425000</td>\n",
       "      <td>0.145000</td>\n",
       "      <td>0.804500</td>\n",
       "      <td>0.339500</td>\n",
       "      <td>0.171750</td>\n",
       "      <td>0.235000</td>\n",
       "      <td>0.000000</td>\n",
       "      <td>0.000000</td>\n",
       "    </tr>\n",
       "    <tr>\n",
       "      <th>75%</th>\n",
       "      <td>0.615000</td>\n",
       "      <td>0.480000</td>\n",
       "      <td>0.165000</td>\n",
       "      <td>1.156750</td>\n",
       "      <td>0.506500</td>\n",
       "      <td>0.255000</td>\n",
       "      <td>0.330000</td>\n",
       "      <td>1.000000</td>\n",
       "      <td>1.000000</td>\n",
       "    </tr>\n",
       "    <tr>\n",
       "      <th>max</th>\n",
       "      <td>0.815000</td>\n",
       "      <td>0.650000</td>\n",
       "      <td>1.130000</td>\n",
       "      <td>2.825500</td>\n",
       "      <td>1.488000</td>\n",
       "      <td>0.760000</td>\n",
       "      <td>1.005000</td>\n",
       "      <td>1.000000</td>\n",
       "      <td>1.000000</td>\n",
       "    </tr>\n",
       "  </tbody>\n",
       "</table>\n",
       "</div>"
      ],
      "text/plain": [
       "                 B            C            D            E            F  \\\n",
       "count  3132.000000  3132.000000  3132.000000  3132.000000  3132.000000   \n",
       "mean      0.525750     0.409254     0.140070     0.834224     0.362219   \n",
       "std       0.119131     0.098557     0.042661     0.491449     0.223000   \n",
       "min       0.075000     0.055000     0.000000     0.002000     0.001000   \n",
       "25%       0.450000     0.350000     0.115000     0.444000     0.187000   \n",
       "50%       0.545000     0.425000     0.145000     0.804500     0.339500   \n",
       "75%       0.615000     0.480000     0.165000     1.156750     0.506500   \n",
       "max       0.815000     0.650000     1.130000     2.825500     1.488000   \n",
       "\n",
       "                 G            H          A_I          A_M  \n",
       "count  3132.000000  3132.000000  3132.000000  3132.000000  \n",
       "mean      0.181684     0.240351     0.316731     0.366858  \n",
       "std       0.109317     0.139567     0.465276     0.482024  \n",
       "min       0.000500     0.001500     0.000000     0.000000  \n",
       "25%       0.093500     0.130000     0.000000     0.000000  \n",
       "50%       0.171750     0.235000     0.000000     0.000000  \n",
       "75%       0.255000     0.330000     1.000000     1.000000  \n",
       "max       0.760000     1.005000     1.000000     1.000000  "
      ]
     },
     "execution_count": 9,
     "metadata": {},
     "output_type": "execute_result"
    }
   ],
   "source": [
    "final_features.describe()"
   ]
  },
  {
   "cell_type": "code",
   "execution_count": 10,
   "id": "4a6f4086",
   "metadata": {},
   "outputs": [],
   "source": [
    "# standardisation of numerical data\n",
    "from sklearn.preprocessing import StandardScaler\n",
    "SC = StandardScaler()"
   ]
  },
  {
   "cell_type": "code",
   "execution_count": 11,
   "id": "eaf53e9f",
   "metadata": {},
   "outputs": [],
   "source": [
    "from sklearn.preprocessing import MinMaxScaler\n",
    " \n",
    "sc = MinMaxScaler()\n",
    "# model=scaler.fit(data)"
   ]
  },
  {
   "cell_type": "code",
   "execution_count": 12,
   "id": "d17a8324",
   "metadata": {},
   "outputs": [],
   "source": [
    "# fitting data to standard scaler model\n",
    "x_train = SC.fit_transform(final_features.iloc[:,:-2])"
   ]
  },
  {
   "cell_type": "code",
   "execution_count": 13,
   "id": "11279680",
   "metadata": {},
   "outputs": [],
   "source": [
    "x_train = pd.DataFrame(x_train, columns = final_features.columns[:-2])"
   ]
  },
  {
   "cell_type": "code",
   "execution_count": 14,
   "id": "07ec7746",
   "metadata": {},
   "outputs": [
    {
     "data": {
      "text/plain": [
       "(3132, 7)"
      ]
     },
     "execution_count": 14,
     "metadata": {},
     "output_type": "execute_result"
    }
   ],
   "source": [
    "x_train.shape"
   ]
  },
  {
   "cell_type": "code",
   "execution_count": 15,
   "id": "d95d16d0",
   "metadata": {},
   "outputs": [
    {
     "data": {
      "text/plain": [
       "B      0.6100\n",
       "C      0.4600\n",
       "D      0.1450\n",
       "E      1.1185\n",
       "F      0.4780\n",
       "G      0.2945\n",
       "H      0.2985\n",
       "A_I    0.0000\n",
       "A_M    0.0000\n",
       "Name: 3000, dtype: float64"
      ]
     },
     "execution_count": 15,
     "metadata": {},
     "output_type": "execute_result"
    }
   ],
   "source": [
    "final_features.iloc[3000,:]"
   ]
  },
  {
   "cell_type": "code",
   "execution_count": 16,
   "id": "27f0194e",
   "metadata": {},
   "outputs": [
    {
     "data": {
      "text/plain": [
       "A_I    0\n",
       "A_M    0\n",
       "Name: 3117, dtype: uint8"
      ]
     },
     "execution_count": 16,
     "metadata": {},
     "output_type": "execute_result"
    }
   ],
   "source": [
    "dff = final_features.iloc[:,7:9]\n",
    "dff.iloc[3117,:]"
   ]
  },
  {
   "cell_type": "code",
   "execution_count": 17,
   "id": "1ffce115",
   "metadata": {},
   "outputs": [
    {
     "data": {
      "text/plain": [
       "B    0.707314\n",
       "C    0.514966\n",
       "D    0.115576\n",
       "E    0.578536\n",
       "F    0.519280\n",
       "G    1.032172\n",
       "H    0.416706\n",
       "Name: 3000, dtype: float64"
      ]
     },
     "execution_count": 17,
     "metadata": {},
     "output_type": "execute_result"
    }
   ],
   "source": [
    "x_train.iloc[3000,:]"
   ]
  },
  {
   "cell_type": "code",
   "execution_count": 18,
   "id": "3896f62e",
   "metadata": {},
   "outputs": [],
   "source": [
    "#horizontal concatenation of dummy encoded columns as no need to standardise those\n",
    "horizontal_concat1 = pd.concat([x_train, dff], axis=1)"
   ]
  },
  {
   "cell_type": "code",
   "execution_count": 19,
   "id": "cc519cab",
   "metadata": {},
   "outputs": [
    {
     "data": {
      "text/plain": [
       "(3132, 9)"
      ]
     },
     "execution_count": 19,
     "metadata": {},
     "output_type": "execute_result"
    }
   ],
   "source": [
    "horizontal_concat1.shape"
   ]
  },
  {
   "cell_type": "code",
   "execution_count": 20,
   "id": "cdf75888",
   "metadata": {},
   "outputs": [],
   "source": [
    "x_train = horizontal_concat1"
   ]
  },
  {
   "cell_type": "code",
   "execution_count": 21,
   "id": "879acdeb",
   "metadata": {},
   "outputs": [
    {
     "data": {
      "text/plain": [
       "(3132, 9)"
      ]
     },
     "execution_count": 21,
     "metadata": {},
     "output_type": "execute_result"
    }
   ],
   "source": [
    "x_train.shape"
   ]
  },
  {
   "cell_type": "code",
   "execution_count": 22,
   "id": "7a9c66a7",
   "metadata": {},
   "outputs": [
    {
     "data": {
      "text/plain": [
       "B      0\n",
       "C      0\n",
       "D      0\n",
       "E      0\n",
       "F      0\n",
       "G      0\n",
       "H      0\n",
       "A_I    0\n",
       "A_M    0\n",
       "dtype: int64"
      ]
     },
     "execution_count": 22,
     "metadata": {},
     "output_type": "execute_result"
    }
   ],
   "source": [
    "x_train.iloc[3118:,:].isnull().sum()"
   ]
  },
  {
   "cell_type": "code",
   "execution_count": 23,
   "id": "dcdff6f8",
   "metadata": {},
   "outputs": [
    {
     "data": {
      "text/plain": [
       "(1045, 9)"
      ]
     },
     "execution_count": 23,
     "metadata": {},
     "output_type": "execute_result"
    }
   ],
   "source": [
    "final_features1 = pd.get_dummies(x_test,drop_first=True)\n",
    "n = final_features1['Index']\n",
    "final_features1.drop(['Index'], axis=1, inplace = True)\n",
    "# x_test = final_features1\n",
    "final_features1.shape"
   ]
  },
  {
   "cell_type": "code",
   "execution_count": 24,
   "id": "05cb479c",
   "metadata": {},
   "outputs": [],
   "source": [
    "dff1 = final_features1.iloc[:,7:9]"
   ]
  },
  {
   "cell_type": "code",
   "execution_count": 25,
   "id": "36f6658e",
   "metadata": {},
   "outputs": [],
   "source": [
    "x_test = SC.transform(final_features1.iloc[:,:-2])\n",
    "x_test = pd.DataFrame(x_test, columns = final_features1.columns[:-2])\n",
    "x_test.shape\n",
    "x_test = pd.concat([x_test, dff1] ,axis=1)"
   ]
  },
  {
   "cell_type": "code",
   "execution_count": 26,
   "id": "f36660cf",
   "metadata": {},
   "outputs": [],
   "source": [
    "# Principle Component Analysis\n",
    "from sklearn.decomposition import PCA\n",
    "pca = PCA(n_components = 9)\n",
    "x_train = pca.fit_transform(x_train)\n",
    "x_test = pca.transform(x_test)"
   ]
  },
  {
   "cell_type": "code",
   "execution_count": 27,
   "id": "0e06d39e",
   "metadata": {},
   "outputs": [],
   "source": [
    "# using random forest for final predictions\n",
    "from sklearn.ensemble import RandomForestRegressor\n",
    "regressor = RandomForestRegressor(n_estimators = 250, random_state = 0)\n",
    "regressor.fit(x_train, y)\n",
    "Y_pred = regressor.predict(x_test)"
   ]
  },
  {
   "cell_type": "code",
   "execution_count": 28,
   "id": "bd8bcf3e",
   "metadata": {},
   "outputs": [
    {
     "data": {
      "text/plain": [
       "94.03"
      ]
     },
     "execution_count": 28,
     "metadata": {},
     "output_type": "execute_result"
    }
   ],
   "source": [
    "from sklearn.metrics import accuracy_score\n",
    "regressor.score(x_train, y)\n",
    "regressor = round(regressor.score(x_train,y) * 100, 2)\n",
    "regressor"
   ]
  },
  {
   "cell_type": "code",
   "execution_count": 29,
   "id": "f4ea08c2",
   "metadata": {},
   "outputs": [],
   "source": [
    "# making answer dataframe\n",
    "ans_p = pd.DataFrame({\n",
    "    \"Index\":n,\"Target\":Y_pred\n",
    "})"
   ]
  },
  {
   "cell_type": "code",
   "execution_count": 30,
   "id": "8704f1e6",
   "metadata": {},
   "outputs": [],
   "source": [
    "df_final4 = pd.DataFrame(ans_p,index=None)"
   ]
  },
  {
   "cell_type": "code",
   "execution_count": 31,
   "id": "931a56bd",
   "metadata": {},
   "outputs": [],
   "source": [
    "#  storing answer dataframe\n",
    "df_final4.to_csv(\"ans5.csv\")"
   ]
  },
  {
   "cell_type": "code",
   "execution_count": null,
   "id": "6f721491",
   "metadata": {},
   "outputs": [],
   "source": []
  }
 ],
 "metadata": {
  "kernelspec": {
   "display_name": "Python 3 (ipykernel)",
   "language": "python",
   "name": "python3"
  },
  "language_info": {
   "codemirror_mode": {
    "name": "ipython",
    "version": 3
   },
   "file_extension": ".py",
   "mimetype": "text/x-python",
   "name": "python",
   "nbconvert_exporter": "python",
   "pygments_lexer": "ipython3",
   "version": "3.9.7"
  }
 },
 "nbformat": 4,
 "nbformat_minor": 5
}
